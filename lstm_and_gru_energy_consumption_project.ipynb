{
  "cells": [
    {
      "cell_type": "code",
      "execution_count": null,
      "metadata": {
        "id": "Jy0qthZXph_G"
      },
      "outputs": [],
      "source": [
        "import os\n",
        "import time\n",
        "\n",
        "import numpy as np\n",
        "import pandas as pd\n",
        "import matplotlib.pyplot as plt\n",
        "\n",
        "import torch\n",
        "import torch.nn as nn\n",
        "from torch.utils.data import TensorDataset, DataLoader\n",
        "\n",
        "from tqdm.notebook import tqdm as tqdm_notebook\n",
        "from sklearn.preprocessing import MinMaxScaler"
      ]
    },
    {
      "cell_type": "code",
      "execution_count": null,
      "metadata": {
        "id": "YVfiziB5ph_J",
        "outputId": "8aab111a-4179-439a-a93d-631e0a6e91a4"
      },
      "outputs": [
        {
          "name": "stdout",
          "output_type": "stream",
          "text": [
            "['AEP_hourly.csv', 'COMED_hourly.csv', 'DAYTON_hourly.csv', 'DEOK_hourly.csv', 'DOM_hourly.csv', 'DUQ_hourly.csv', 'EKPC_hourly.csv', 'Extra', 'FE_hourly.csv', 'NI_hourly.csv', 'PJME_hourly.csv', 'PJMW_hourly.csv', 'PJM_Load_hourly.csv']\n"
          ]
        }
      ],
      "source": [
        "# Define data root directory\n",
        "data_dir = \"./data\"\n",
        "print(os.listdir(data_dir))"
      ]
    },
    {
      "cell_type": "code",
      "execution_count": null,
      "metadata": {
        "id": "NwPO4zIOph_J",
        "outputId": "6ae76c62-8ea3-4515-f4af-214a392c0116"
      },
      "outputs": [
        {
          "data": {
            "text/html": [
              "<div>\n",
              "<style scoped>\n",
              "    .dataframe tbody tr th:only-of-type {\n",
              "        vertical-align: middle;\n",
              "    }\n",
              "\n",
              "    .dataframe tbody tr th {\n",
              "        vertical-align: top;\n",
              "    }\n",
              "\n",
              "    .dataframe thead th {\n",
              "        text-align: right;\n",
              "    }\n",
              "</style>\n",
              "<table border=\"1\" class=\"dataframe\">\n",
              "  <thead>\n",
              "    <tr style=\"text-align: right;\">\n",
              "      <th></th>\n",
              "      <th>Datetime</th>\n",
              "      <th>DEOK_MW</th>\n",
              "    </tr>\n",
              "  </thead>\n",
              "  <tbody>\n",
              "    <tr>\n",
              "      <th>0</th>\n",
              "      <td>2012-12-31 01:00:00</td>\n",
              "      <td>2945.0</td>\n",
              "    </tr>\n",
              "    <tr>\n",
              "      <th>1</th>\n",
              "      <td>2012-12-31 02:00:00</td>\n",
              "      <td>2868.0</td>\n",
              "    </tr>\n",
              "    <tr>\n",
              "      <th>2</th>\n",
              "      <td>2012-12-31 03:00:00</td>\n",
              "      <td>2812.0</td>\n",
              "    </tr>\n",
              "    <tr>\n",
              "      <th>3</th>\n",
              "      <td>2012-12-31 04:00:00</td>\n",
              "      <td>2812.0</td>\n",
              "    </tr>\n",
              "    <tr>\n",
              "      <th>4</th>\n",
              "      <td>2012-12-31 05:00:00</td>\n",
              "      <td>2860.0</td>\n",
              "    </tr>\n",
              "  </tbody>\n",
              "</table>\n",
              "</div>"
            ],
            "text/plain": [
              "              Datetime  DEOK_MW\n",
              "0  2012-12-31 01:00:00   2945.0\n",
              "1  2012-12-31 02:00:00   2868.0\n",
              "2  2012-12-31 03:00:00   2812.0\n",
              "3  2012-12-31 04:00:00   2812.0\n",
              "4  2012-12-31 05:00:00   2860.0"
            ]
          },
          "execution_count": 4,
          "metadata": {},
          "output_type": "execute_result"
        }
      ],
      "source": [
        "pd.read_csv(os.path.join(data_dir, \"DEOK_hourly.csv\")).head()"
      ]
    },
    {
      "cell_type": "code",
      "execution_count": null,
      "metadata": {
        "id": "awK8Le5_ph_J"
      },
      "outputs": [],
      "source": [
        "def move_sliding_window(data, window_size, inputs_cols_indices, label_col_index):\n",
        "    \"\"\"\n",
        "    data: numpy array including data\n",
        "    window_size: size of window\n",
        "    inputs_cols_indices: col indices to include\n",
        "    \"\"\"\n",
        "\n",
        "    # (# instances created by movement, seq_len (timestamps), # features (input_len))\n",
        "    inputs = np.zeros((len(data) - window_size, window_size, len(inputs_cols_indices)))\n",
        "    labels = np.zeros(len(data) - window_size)\n",
        "\n",
        "    for i in range(window_size, len(data)):\n",
        "        inputs[i - window_size] = data[i - window_size : i, inputs_cols_indices]\n",
        "        labels[i - window_size] = data[i, label_col_index]\n",
        "    inputs = inputs.reshape(-1, window_size, len(inputs_cols_indices))\n",
        "    labels = labels.reshape(-1, 1)\n",
        "    print(inputs.shape, labels.shape)\n",
        "\n",
        "    return inputs, labels"
      ]
    },
    {
      "cell_type": "code",
      "execution_count": null,
      "metadata": {
        "colab": {
          "referenced_widgets": [
            "d8fd60ba1df944b4a56214dcd233fd50"
          ]
        },
        "id": "BE6xwnYEph_K",
        "outputId": "ec3cacce-d417-46ed-f22d-e77b9b1bf741"
      },
      "outputs": [
        {
          "data": {
            "application/vnd.jupyter.widget-view+json": {
              "model_id": "d8fd60ba1df944b4a56214dcd233fd50",
              "version_major": 2,
              "version_minor": 0
            },
            "text/plain": [
              "  0%|          | 0/5 [00:00<?, ?it/s]"
            ]
          },
          "metadata": {},
          "output_type": "display_data"
        },
        {
          "name": "stdout",
          "output_type": "stream",
          "text": [
            "Processing AEP_hourly.csv ...\n",
            "(121183, 90, 5) (121183, 1)\n",
            "Processing COMED_hourly.csv ...\n",
            "(66407, 90, 5) (66407, 1)\n",
            "Processing DAYTON_hourly.csv ...\n",
            "(121185, 90, 5) (121185, 1)\n",
            "Processing DEOK_hourly.csv ...\n",
            "(57649, 90, 5) (57649, 1)\n",
            "Processing DOM_hourly.csv ...\n",
            "(116099, 90, 5) (116099, 1)\n"
          ]
        }
      ],
      "source": [
        "label_col_index = 0  # consumption as label to predict\n",
        "inputs_cols_indices = range(\n",
        "    5\n",
        ")  # use (consumption, hour, dayofweek, month, dayofyear) columns as features\n",
        "\n",
        "# Define window_size period and split inputs/labels\n",
        "window_size = 90\n",
        "\n",
        "# The scaler objects will be stored in this dictionary so that our output test data from the model can be re-scaled during evaluation\n",
        "label_scalers = {}\n",
        "\n",
        "train_x = []\n",
        "test_x = {}\n",
        "test_y = {}\n",
        "\n",
        "# Skipping the files we're not using\n",
        "processing_files = [\n",
        "    file for file in os.listdir(data_dir) if os.path.splitext(file)[1] == \".csv\"\n",
        "]\n",
        "\n",
        "num_files_for_dataset = 5\n",
        "\n",
        "for file in tqdm_notebook(processing_files[:num_files_for_dataset]):\n",
        "    print(f\"Processing {file} ...\")\n",
        "    # Store csv file in a Pandas DataFrame\n",
        "    df = pd.read_csv(os.path.join(data_dir, file), parse_dates=[\"Datetime\"])\n",
        "\n",
        "    # Processing the time data into suitable input formats\n",
        "    df[\"hour\"] = df.apply(lambda x: x[\"Datetime\"].hour, axis=1)\n",
        "    df[\"dayofweek\"] = df.apply(lambda x: x[\"Datetime\"].dayofweek, axis=1)\n",
        "    df[\"month\"] = df.apply(lambda x: x[\"Datetime\"].month, axis=1)\n",
        "    df[\"dayofyear\"] = df.apply(lambda x: x[\"Datetime\"].dayofyear, axis=1)\n",
        "    df = df.sort_values(\"Datetime\").drop(\"Datetime\", axis=1)\n",
        "\n",
        "    # Scaling the input data\n",
        "    sc = MinMaxScaler()\n",
        "    label_sc = MinMaxScaler()\n",
        "    data = sc.fit_transform(df.values)\n",
        "\n",
        "    # Obtaining the scaler for the labels(usage data) so that output can be\n",
        "    # re-scaled to actual value during evaluation\n",
        "    label_sc.fit(df.iloc[:, label_col_index].values.reshape(-1, 1))\n",
        "    label_scalers[file] = label_sc\n",
        "\n",
        "    # Move the window\n",
        "    inputs, labels = move_sliding_window(\n",
        "        data,\n",
        "        window_size,\n",
        "        inputs_cols_indices=inputs_cols_indices,\n",
        "        label_col_index=label_col_index,\n",
        "    )\n",
        "\n",
        "    # CONCAT created instances from all .csv files.\n",
        "    # Split data into train/test portions and combining all data from different files into a single array\n",
        "    test_portion = int(0.1 * len(inputs))\n",
        "    if len(train_x) == 0:  # first iteration\n",
        "        train_x = inputs[:-test_portion]\n",
        "        train_y = labels[:-test_portion]\n",
        "    else:\n",
        "        train_x = np.concatenate((train_x, inputs[:-test_portion]))\n",
        "        train_y = np.concatenate((train_y, labels[:-test_portion]))\n",
        "    test_x[file] = inputs[-test_portion:]\n",
        "    test_y[file] = labels[-test_portion:]"
      ]
    },
    {
      "cell_type": "code",
      "execution_count": null,
      "metadata": {
        "id": "U6Dwowxxph_L",
        "outputId": "4f32611f-8828-4eaf-c673-8ed155ee753c"
      },
      "outputs": [
        {
          "data": {
            "text/plain": [
              "((434274, 90, 5), (5764, 90, 5))"
            ]
          },
          "execution_count": 7,
          "metadata": {},
          "output_type": "execute_result"
        }
      ],
      "source": [
        "train_x.shape, test_x[\"DEOK_hourly.csv\"].shape"
      ]
    },
    {
      "cell_type": "code",
      "execution_count": null,
      "metadata": {
        "id": "xEXcoZ_wph_L"
      },
      "outputs": [],
      "source": [
        "batch_size = 1024\n",
        "\n",
        "train_data = TensorDataset(torch.from_numpy(train_x), torch.from_numpy(train_y))\n",
        "\n",
        "# Drop the last incomplete batch\n",
        "train_loader = DataLoader(\n",
        "    train_data, shuffle=True, batch_size=batch_size, drop_last=True\n",
        ")"
      ]
    },
    {
      "cell_type": "code",
      "execution_count": null,
      "metadata": {
        "id": "ab65gYgqph_L",
        "outputId": "6f0636bb-c46c-46c2-df70-843ea06c2f7a"
      },
      "outputs": [
        {
          "name": "stdout",
          "output_type": "stream",
          "text": [
            "Train Size: (434274, 90, 5), Batch Size: 1024, # of iterations per epoch: 424\n"
          ]
        }
      ],
      "source": [
        "print(\n",
        "    f\"Train Size: {train_x.shape}, Batch Size: {batch_size}, # of iterations per epoch: {int(train_x.shape[0]/batch_size)}\"\n",
        ")"
      ]
    },
    {
      "cell_type": "code",
      "execution_count": null,
      "metadata": {
        "id": "65M6RPS4ph_M"
      },
      "outputs": [],
      "source": [
        "# release some memory\n",
        "del train_x, train_y"
      ]
    },
    {
      "cell_type": "code",
      "execution_count": null,
      "metadata": {
        "id": "3mPJEtQxph_M",
        "outputId": "0fb172c0-89e7-4727-c8c0-8737cfdc28d1"
      },
      "outputs": [
        {
          "name": "stdout",
          "output_type": "stream",
          "text": [
            "GPU is available\n"
          ]
        }
      ],
      "source": [
        "# torch.cuda.is_available() checks and returns a Boolean True if a GPU is available, else it'll return False\n",
        "is_cuda = torch.cuda.is_available()\n",
        "\n",
        "# If we have a GPU available, we'll set our device to GPU. We'll use this device variable later in our code.\n",
        "if is_cuda:\n",
        "    device = torch.device(\"cuda\")\n",
        "    print(\"GPU is available\")\n",
        "else:\n",
        "    device = torch.device(\"cpu\")"
      ]
    },
    {
      "cell_type": "code",
      "execution_count": null,
      "metadata": {
        "id": "vZTYbadTph_N"
      },
      "outputs": [],
      "source": [
        "class GRUNet(nn.Module):\n",
        "    def __init__(self, input_dim, hidden_dim, output_dim, n_layers, drop_prob=0.2):\n",
        "        super(GRUNet, self).__init__()\n",
        "        self.hidden_dim = hidden_dim\n",
        "        self.n_layers = n_layers\n",
        "\n",
        "        self.gru = nn.GRU(\n",
        "            input_dim, hidden_dim, n_layers, batch_first=True, dropout=drop_prob\n",
        "        )\n",
        "        self.fc = nn.Linear(hidden_dim, output_dim)\n",
        "        self.relu = nn.ReLU()\n",
        "\n",
        "    def forward(self, x, h):\n",
        "        out, h = self.gru(x, h)\n",
        "        # print(out[:, -1].shape, h.shape)\n",
        "        # select hidden state of last timestamp (t=90) (1024, 256)\n",
        "        out = self.fc(self.relu(out[:, -1]))  # out[:, -1, :]\n",
        "        # print(out.shape) # (1024, 1)\n",
        "        return out, h\n",
        "\n",
        "    def init_hidden(self, batch_size):\n",
        "        # Initialze h_0 with zeros\n",
        "        weight = next(self.parameters()).data\n",
        "        hidden = (\n",
        "            weight.new(self.n_layers, batch_size, self.hidden_dim).zero_().to(device)\n",
        "        )\n",
        "        return hidden\n",
        "\n",
        "\n",
        "class LSTMNet(nn.Module):\n",
        "    def __init__(self, input_dim, hidden_dim, output_dim, n_layers, drop_prob=0.2):\n",
        "        super(LSTMNet, self).__init__()\n",
        "        self.hidden_dim = hidden_dim\n",
        "        self.n_layers = n_layers\n",
        "\n",
        "        self.lstm = nn.LSTM(\n",
        "            input_dim, hidden_dim, n_layers, batch_first=True, dropout=drop_prob\n",
        "        )\n",
        "        self.fc = nn.Linear(hidden_dim, output_dim)\n",
        "        self.relu = nn.ReLU()\n",
        "\n",
        "    def forward(self, x, h):\n",
        "        out, h = self.lstm(x, h)\n",
        "        out = self.fc(self.relu(out[:, -1]))\n",
        "        return out, h\n",
        "\n",
        "    def init_hidden(self, batch_size):\n",
        "        weight = next(self.parameters()).data\n",
        "        # Initialze h_0, c_0 with zeros\n",
        "        hidden = (\n",
        "            weight.new(self.n_layers, batch_size, self.hidden_dim)\n",
        "            .zero_()\n",
        "            .to(device),  # h_0\n",
        "            weight.new(self.n_layers, batch_size, self.hidden_dim).zero_().to(device),\n",
        "        )\n",
        "        return hidden"
      ]
    },
    {
      "cell_type": "code",
      "execution_count": null,
      "metadata": {
        "id": "s_7nrx-rph_N"
      },
      "outputs": [],
      "source": [
        "def train(\n",
        "    train_loader,\n",
        "    learn_rate,\n",
        "    hidden_dim=256,\n",
        "    n_layers=2,\n",
        "    n_epochs=5,\n",
        "    model_type=\"GRU\",\n",
        "    print_every=100,\n",
        "):\n",
        "\n",
        "    input_dim = next(iter(train_loader))[0].shape[2]  # 5\n",
        "\n",
        "    # Batch generator (train_data, train_label)\n",
        "    # print(next(iter(train_loader))[0].shape, next(iter(train_loader))[1].shape) # torch.Size([1024, 90, 5]) torch.Size([1024, 1])\n",
        "\n",
        "    output_dim = 1\n",
        "\n",
        "    # Instantiating the models\n",
        "    if model_type == \"GRU\":\n",
        "        model = GRUNet(input_dim, hidden_dim, output_dim, n_layers)\n",
        "    else:\n",
        "        model = LSTMNet(input_dim, hidden_dim, output_dim, n_layers)\n",
        "    model.to(device)\n",
        "\n",
        "    # Defining loss function and optimizer\n",
        "    criterion = nn.MSELoss()  # Mean Squared Error\n",
        "    optimizer = torch.optim.Adam(model.parameters(), lr=learn_rate)\n",
        "\n",
        "    model.train()\n",
        "    print(\"Starting Training of {} model\".format(model_type))\n",
        "    epoch_times = []\n",
        "\n",
        "    # Start training loop\n",
        "    for epoch in range(1, n_epochs + 1):\n",
        "        start_time = time.process_time()\n",
        "        h = model.init_hidden(batch_size)\n",
        "        avg_loss = 0.0\n",
        "        counter = 0\n",
        "        for x, label in train_loader:\n",
        "            counter += 1\n",
        "            if model_type == \"GRU\":\n",
        "                h = h.data\n",
        "            # Unpcak both h_0 and c_0\n",
        "            elif model_type == \"LSTM\":\n",
        "                h = tuple([e.data for e in h])\n",
        "\n",
        "            # Set the gradients to zero before starting to do backpropragation because\n",
        "            # PyTorch accumulates the gradients on subsequent backward passes\n",
        "            model.zero_grad()\n",
        "\n",
        "            out, h = model(x.to(device).float(), h)\n",
        "            loss = criterion(out, label.to(device).float())\n",
        "\n",
        "            # Perform backpropragation\n",
        "            loss.backward()\n",
        "            optimizer.step()\n",
        "\n",
        "            avg_loss += loss.item()\n",
        "            if counter % print_every == 0:\n",
        "                print(\n",
        "                    f\"Epoch {epoch} - Step: {counter}/{len(train_loader)} - Average Loss for Epoch: {avg_loss/counter}\"\n",
        "                )\n",
        "        current_time = time.process_time()\n",
        "\n",
        "        print(\n",
        "            f\"Epoch {epoch}/{n_epochs} Done, Total Loss: {avg_loss/len(train_loader)}\"\n",
        "        )\n",
        "\n",
        "        print(f\"Time Elapsed for Epoch: {current_time-start_time} seconds\")\n",
        "\n",
        "        epoch_times.append(current_time - start_time)\n",
        "\n",
        "    print(f\"Total Training Time: {sum(epoch_times)} seconds\")\n",
        "    return model"
      ]
    },
    {
      "cell_type": "code",
      "execution_count": null,
      "metadata": {
        "scrolled": true,
        "id": "Sxhjaq93ph_N",
        "outputId": "5222d7e6-0563-47b8-934c-0b255b75488f"
      },
      "outputs": [
        {
          "name": "stdout",
          "output_type": "stream",
          "text": [
            "Starting Training of GRU model\n",
            "Epoch 1 - Step: 100/424 - Average Loss for Epoch: 0.009071982357418164\n",
            "Epoch 1 - Step: 200/424 - Average Loss for Epoch: 0.0051794046894065105\n",
            "Epoch 1 - Step: 300/424 - Average Loss for Epoch: 0.003720352284920712\n",
            "Epoch 1 - Step: 400/424 - Average Loss for Epoch: 0.002927651157733635\n",
            "Epoch 1/5 Done, Total Loss: 0.00279053182563281\n",
            "Time Elapsed for Epoch: 181.96668419600002 seconds\n",
            "Epoch 2 - Step: 100/424 - Average Loss for Epoch: 0.0004185849602799863\n",
            "Epoch 2 - Step: 200/424 - Average Loss for Epoch: 0.0003931113202997949\n",
            "Epoch 2 - Step: 300/424 - Average Loss for Epoch: 0.00036136682523647324\n",
            "Epoch 2 - Step: 400/424 - Average Loss for Epoch: 0.00033733584383298875\n",
            "Epoch 2/5 Done, Total Loss: 0.0003346254485085462\n",
            "Time Elapsed for Epoch: 178.448133445 seconds\n",
            "Epoch 3 - Step: 100/424 - Average Loss for Epoch: 0.00024759615829680117\n",
            "Epoch 3 - Step: 200/424 - Average Loss for Epoch: 0.00023687195520324166\n",
            "Epoch 3 - Step: 300/424 - Average Loss for Epoch: 0.00022967903030803426\n",
            "Epoch 3 - Step: 400/424 - Average Loss for Epoch: 0.00021985702307574683\n",
            "Epoch 3/5 Done, Total Loss: 0.00022042358010229742\n",
            "Time Elapsed for Epoch: 182.90420133600003 seconds\n",
            "Epoch 4 - Step: 100/424 - Average Loss for Epoch: 0.00018616394241689706\n",
            "Epoch 4 - Step: 200/424 - Average Loss for Epoch: 0.0001842466117523145\n",
            "Epoch 4 - Step: 300/424 - Average Loss for Epoch: 0.00018276822520419956\n",
            "Epoch 4 - Step: 400/424 - Average Loss for Epoch: 0.00017879301092762033\n",
            "Epoch 4/5 Done, Total Loss: 0.00017777665338796378\n",
            "Time Elapsed for Epoch: 180.431791212 seconds\n",
            "Epoch 5 - Step: 100/424 - Average Loss for Epoch: 0.00015844541354454123\n",
            "Epoch 5 - Step: 200/424 - Average Loss for Epoch: 0.00016035477332479786\n",
            "Epoch 5 - Step: 300/424 - Average Loss for Epoch: 0.00016002178507430167\n",
            "Epoch 5 - Step: 400/424 - Average Loss for Epoch: 0.0001560792921191023\n",
            "Epoch 5/5 Done, Total Loss: 0.00015513241700284438\n",
            "Time Elapsed for Epoch: 181.83774665299995 seconds\n",
            "Total Training Time: 905.588556842 seconds\n"
          ]
        }
      ],
      "source": [
        "# seq_len = 90  # (timestamps)\n",
        "n_hidden = 256\n",
        "n_layers = 2\n",
        "n_epochs = 5\n",
        "print_every = 100\n",
        "lr = 0.001\n",
        "gru_model = train(\n",
        "    train_loader,\n",
        "    learn_rate=lr,\n",
        "    hidden_dim=n_hidden,\n",
        "    n_layers=n_layers,\n",
        "    n_epochs=n_epochs,\n",
        "    model_type=\"GRU\",\n",
        "    print_every=print_every,\n",
        ")"
      ]
    },
    {
      "cell_type": "code",
      "execution_count": null,
      "metadata": {
        "id": "xD1CSrWXph_O"
      },
      "outputs": [],
      "source": [
        "torch.save(gru_model.state_dict(), \"./models/gru_model.pt\")"
      ]
    },
    {
      "cell_type": "code",
      "execution_count": null,
      "metadata": {
        "id": "m-txHCnuph_O",
        "outputId": "d9cdada6-5a3f-4bbd-fad0-bae5e8c78ea5"
      },
      "outputs": [
        {
          "name": "stdout",
          "output_type": "stream",
          "text": [
            "Starting Training of LSTM model\n",
            "Epoch 1 - Step: 100/424 - Average Loss for Epoch: 0.021769202766008675\n",
            "Epoch 1 - Step: 200/424 - Average Loss for Epoch: 0.012345994365750812\n",
            "Epoch 1 - Step: 300/424 - Average Loss for Epoch: 0.008801214360088731\n",
            "Epoch 1 - Step: 400/424 - Average Loss for Epoch: 0.006896450841741171\n",
            "Epoch 1/5 Done, Total Loss: 0.006560006459932204\n",
            "Time Elapsed for Epoch: 224.6946503869999 seconds\n",
            "Epoch 2 - Step: 100/424 - Average Loss for Epoch: 0.0008487899467581883\n",
            "Epoch 2 - Step: 200/424 - Average Loss for Epoch: 0.0007708453299710527\n",
            "Epoch 2 - Step: 300/424 - Average Loss for Epoch: 0.0007061967306071892\n",
            "Epoch 2 - Step: 400/424 - Average Loss for Epoch: 0.0006395159123349003\n",
            "Epoch 2/5 Done, Total Loss: 0.0006274768043713609\n",
            "Time Elapsed for Epoch: 223.40906061300007 seconds\n",
            "Epoch 3 - Step: 100/424 - Average Loss for Epoch: 0.0003835190171957947\n",
            "Epoch 3 - Step: 200/424 - Average Loss for Epoch: 0.0003564152754552197\n",
            "Epoch 3 - Step: 300/424 - Average Loss for Epoch: 0.0003397847383651727\n",
            "Epoch 3 - Step: 400/424 - Average Loss for Epoch: 0.00032516338975256074\n",
            "Epoch 3/5 Done, Total Loss: 0.00032387490795852774\n",
            "Time Elapsed for Epoch: 224.17385714600005 seconds\n",
            "Epoch 4 - Step: 100/424 - Average Loss for Epoch: 0.00026012191505287775\n",
            "Epoch 4 - Step: 200/424 - Average Loss for Epoch: 0.0002517929385066964\n",
            "Epoch 4 - Step: 300/424 - Average Loss for Epoch: 0.0002478208115887052\n",
            "Epoch 4 - Step: 400/424 - Average Loss for Epoch: 0.00024625888880109415\n",
            "Epoch 4/5 Done, Total Loss: 0.0002461126329059348\n",
            "Time Elapsed for Epoch: 223.59428279999997 seconds\n",
            "Epoch 5 - Step: 100/424 - Average Loss for Epoch: 0.0002190779658849351\n",
            "Epoch 5 - Step: 200/424 - Average Loss for Epoch: 0.00021393395007180516\n",
            "Epoch 5 - Step: 300/424 - Average Loss for Epoch: 0.000214753640126825\n",
            "Epoch 5 - Step: 400/424 - Average Loss for Epoch: 0.00021163902420084924\n",
            "Epoch 5/5 Done, Total Loss: 0.00021133814104514213\n",
            "Time Elapsed for Epoch: 225.25150645400004 seconds\n",
            "Total Training Time: 1121.1233574 seconds\n"
          ]
        }
      ],
      "source": [
        "lstm_model = train(\n",
        "    train_loader,\n",
        "    learn_rate=lr,\n",
        "    hidden_dim=n_hidden,\n",
        "    n_layers=n_layers,\n",
        "    n_epochs=n_epochs,\n",
        "    model_type=\"LSTM\",\n",
        "    print_every=print_every,\n",
        ")"
      ]
    },
    {
      "cell_type": "code",
      "execution_count": null,
      "metadata": {
        "id": "5D5c0p33ph_P"
      },
      "outputs": [],
      "source": [
        "torch.save(lstm_model.state_dict(), \"./models/lstm_model.pt\")"
      ]
    },
    {
      "cell_type": "code",
      "execution_count": null,
      "metadata": {
        "id": "Wjb30-bJph_Q",
        "outputId": "02031014-8ee6-4e45-8dd5-662c3fadec17"
      },
      "outputs": [
        {
          "data": {
            "text/plain": [
              "<All keys matched successfully>"
            ]
          },
          "execution_count": 14,
          "metadata": {},
          "output_type": "execute_result"
        }
      ],
      "source": [
        "hidden_dim = 256\n",
        "input_dim = 5\n",
        "output_dim = 1\n",
        "n_layers = 2\n",
        "gru_model = GRUNet(input_dim, hidden_dim, output_dim, n_layers)\n",
        "gru_model.load_state_dict(torch.load(\"./models/gru_model.pt\"))"
      ]
    },
    {
      "cell_type": "code",
      "execution_count": null,
      "metadata": {
        "id": "nnQNJ71Oph_Q",
        "outputId": "d54f6a2f-bfb4-4813-ec9e-472cf581dcc5"
      },
      "outputs": [
        {
          "data": {
            "text/plain": [
              "GRUNet(\n",
              "  (gru): GRU(5, 256, num_layers=2, batch_first=True, dropout=0.2)\n",
              "  (fc): Linear(in_features=256, out_features=1, bias=True)\n",
              "  (relu): ReLU()\n",
              ")"
            ]
          },
          "execution_count": 15,
          "metadata": {},
          "output_type": "execute_result"
        }
      ],
      "source": [
        "# Move the model to the appropriate device\n",
        "gru_model.to(device)"
      ]
    },
    {
      "cell_type": "markdown",
      "metadata": {
        "id": "95SHDWDMph_Q"
      },
      "source": [
        "## Load the LSTM model"
      ]
    },
    {
      "cell_type": "code",
      "execution_count": null,
      "metadata": {
        "id": "8lfs7gWuph_Q",
        "outputId": "78a241fb-493a-40a3-aba1-c8b6436756f5"
      },
      "outputs": [
        {
          "data": {
            "text/plain": [
              "<All keys matched successfully>"
            ]
          },
          "execution_count": 22,
          "metadata": {},
          "output_type": "execute_result"
        }
      ],
      "source": [
        "hidden_dim = 256\n",
        "input_dim = 5\n",
        "output_dim = 1\n",
        "n_layers = 2\n",
        "lstm_model = LSTMNet(input_dim, hidden_dim, output_dim, n_layers)\n",
        "lstm_model.load_state_dict(torch.load(\"./models/lstm_model.pt\"))"
      ]
    },
    {
      "cell_type": "code",
      "execution_count": null,
      "metadata": {
        "id": "IW18iUB-ph_Q",
        "outputId": "ab286175-26d2-4647-cc9f-f4a40c6185d2"
      },
      "outputs": [
        {
          "data": {
            "text/plain": [
              "LSTMNet(\n",
              "  (lstm): LSTM(5, 256, num_layers=2, batch_first=True, dropout=0.2)\n",
              "  (fc): Linear(in_features=256, out_features=1, bias=True)\n",
              "  (relu): ReLU()\n",
              ")"
            ]
          },
          "execution_count": 23,
          "metadata": {},
          "output_type": "execute_result"
        }
      ],
      "source": [
        "# Move the model to the appropriate device\n",
        "lstm_model.to(device)"
      ]
    },
    {
      "cell_type": "code",
      "execution_count": null,
      "metadata": {
        "id": "LHuW69-Dph_R"
      },
      "outputs": [],
      "source": [
        "def sMAPE(outputs, targets):\n",
        "    sMAPE = (\n",
        "        100\n",
        "        / len(targets)\n",
        "        * np.sum(np.abs(outputs - targets) / (np.abs(outputs + targets)) / 2)\n",
        "    )\n",
        "    return sMAPE"
      ]
    },
    {
      "cell_type": "code",
      "execution_count": null,
      "metadata": {
        "id": "IRfn1wUdph_R"
      },
      "outputs": [],
      "source": [
        "def evaluate(model, test_x, test_y, label_scalers):\n",
        "    model.eval()\n",
        "    outputs = []\n",
        "    targets = []\n",
        "    start_time = time.process_time()\n",
        "    # get data of test data for each state\n",
        "    for file in test_x.keys():\n",
        "        inputs = torch.from_numpy(np.array(test_x[file]))\n",
        "        labels = torch.from_numpy(np.array(test_y[file]))\n",
        "\n",
        "        h = model.init_hidden(inputs.shape[0])\n",
        "\n",
        "        # predict outputs\n",
        "        with torch.no_grad():\n",
        "            out, h = model(inputs.to(device).float(), h)\n",
        "\n",
        "        outputs.append(\n",
        "            label_scalers[file]\n",
        "            .inverse_transform(out.cpu().detach().numpy())\n",
        "            .reshape(-1)\n",
        "        )\n",
        "\n",
        "        targets.append(\n",
        "            label_scalers[file].inverse_transform(labels.numpy()).reshape(-1)\n",
        "        )\n",
        "\n",
        "    # Merge all files\n",
        "    concatenated_outputs = np.concatenate(outputs)\n",
        "    concatenated_targets = np.concatenate(targets)\n",
        "\n",
        "    print(f\"Evaluation Time: {time.process_time()-start_time}\")\n",
        "    print(f\"sMAPE: {round(sMAPE(concatenated_outputs, concatenated_targets), 3)}%\")\n",
        "\n",
        "    # list of of targets/outputs for each state\n",
        "    return outputs, targets, sMAPE"
      ]
    },
    {
      "cell_type": "markdown",
      "metadata": {
        "id": "yAX64PGpph_R"
      },
      "source": [
        "## Evaluate performance of GRU"
      ]
    },
    {
      "cell_type": "code",
      "execution_count": null,
      "metadata": {
        "id": "7T9oi3-kph_R",
        "outputId": "363470c1-03b7-47a7-fd4e-16bae5d3ddce"
      },
      "outputs": [
        {
          "name": "stdout",
          "output_type": "stream",
          "text": [
            "Evaluation Time: 167.571517659\n",
            "sMAPE: 0.292%\n"
          ]
        }
      ],
      "source": [
        "gru_outputs, targets, gru_sMAPE = evaluate(gru_model, test_x, test_y, label_scalers)"
      ]
    },
    {
      "cell_type": "markdown",
      "metadata": {
        "id": "D5_RcBnwph_S"
      },
      "source": [
        "## Evaluate performance of LSTM"
      ]
    },
    {
      "cell_type": "code",
      "execution_count": null,
      "metadata": {
        "id": "Vc1gYE85ph_S",
        "outputId": "6dee3cb2-23de-4bce-90b4-0e06d26a128b"
      },
      "outputs": [
        {
          "name": "stdout",
          "output_type": "stream",
          "text": [
            "Evaluation Time: 247.41131104\n",
            "sMAPE: 0.293%\n"
          ]
        }
      ],
      "source": [
        "lstm_outputs, targets, lstm_sMAPE = evaluate(lstm_model, test_x, test_y, label_scalers)"
      ]
    },
    {
      "cell_type": "markdown",
      "metadata": {
        "id": "9szpMsEeph_S"
      },
      "source": [
        "While the GRU model may have made smaller errors and edged the LSTM model slightly in terms of performance accuracy, the difference is insignificant and thus inconclusive. There have been many other tests conducted by others comparing both these models but there has largely been no clear winner as to which is the better architecture overall."
      ]
    },
    {
      "cell_type": "code",
      "execution_count": null,
      "metadata": {
        "id": "R2V4WEa_ph_S",
        "outputId": "9f290c90-4e3a-421a-9813-68767d30f852"
      },
      "outputs": [
        {
          "data": {
            "text/plain": [
              "5"
            ]
          },
          "execution_count": 30,
          "metadata": {},
          "output_type": "execute_result"
        }
      ],
      "source": [
        "len(\n",
        "    gru_outputs\n",
        ")  # list of predicted output file for each state (each element has a 1d array for that state)"
      ]
    },
    {
      "cell_type": "markdown",
      "metadata": {
        "id": "vH3irLaGph_T"
      },
      "source": [
        "# Some visualizations"
      ]
    },
    {
      "cell_type": "code",
      "execution_count": null,
      "metadata": {
        "id": "urziK5wvph_T"
      },
      "outputs": [],
      "source": [
        "states_list = list(test_x.keys())"
      ]
    },
    {
      "cell_type": "code",
      "execution_count": null,
      "metadata": {
        "id": "PE68FG7sph_T",
        "outputId": "f3d6a463-c53e-4287-b745-85de0d83ac94"
      },
      "outputs": [
        {
          "data": {
            "text/plain": [
              "['AEP_hourly.csv',\n",
              " 'COMED_hourly.csv',\n",
              " 'DAYTON_hourly.csv',\n",
              " 'DEOK_hourly.csv',\n",
              " 'DOM_hourly.csv']"
            ]
          },
          "execution_count": 27,
          "metadata": {},
          "output_type": "execute_result"
        }
      ],
      "source": [
        "states_list"
      ]
    },
    {
      "cell_type": "code",
      "execution_count": null,
      "metadata": {
        "id": "d9dDdOYeph_T",
        "outputId": "e761a546-1871-499f-e0cb-63c96b978916"
      },
      "outputs": [
        {
          "data": {
            "image/png": "[encoded data removed]",
            "text/plain": [
              "<Figure size 1008x720 with 4 Axes>"
            ]
          },
          "metadata": {
            "needs_background": "light"
          },
          "output_type": "display_data"
        }
      ],
      "source": [
        "plt.figure(figsize=(14, 10))\n",
        "plt.subplot(2, 2, 1)\n",
        "plt.plot(gru_outputs[0][-100:], \"-o\", color=\"g\", label=\"GRU Predictions\", markersize=2)\n",
        "plt.plot(\n",
        "    lstm_outputs[0][-100:], \"-o\", color=\"r\", label=\"LSTM Predictions\", markersize=2\n",
        ")\n",
        "plt.plot(targets[0][-100:], color=\"b\", label=\"Actual\")\n",
        "plt.ylabel(\"Energy Consumption (MW)\")\n",
        "plt.title(f\"Energy Consumption for {states_list[0]} state\")\n",
        "plt.legend()\n",
        "\n",
        "plt.subplot(2, 2, 2)\n",
        "plt.plot(gru_outputs[1][-50:], \"-o\", color=\"g\", label=\"GRU Predictions\", markersize=2)\n",
        "plt.plot(lstm_outputs[1][-50:], \"-o\", color=\"r\", label=\"LSTM Predictions\", markersize=2)\n",
        "plt.plot(targets[1][-50:], color=\"b\", label=\"Actual\")\n",
        "plt.ylabel(\"Energy Consumption (MW)\")\n",
        "plt.title(f\"Energy Consumption for {states_list[1]} state\")\n",
        "plt.legend()\n",
        "\n",
        "plt.subplot(2, 2, 3)\n",
        "plt.plot(gru_outputs[2][:50], \"-o\", color=\"g\", label=\"GRU Predictions\", markersize=2)\n",
        "plt.plot(lstm_outputs[2][:50], \"-o\", color=\"r\", label=\"LSTM Predictions\", markersize=2)\n",
        "plt.plot(targets[2][:50], color=\"b\", label=\"Actual\")\n",
        "plt.ylabel(\"Energy Consumption (MW)\")\n",
        "plt.title(f\"Energy Consumption for {states_list[2]} state\")\n",
        "plt.legend()\n",
        "\n",
        "plt.subplot(2, 2, 4)\n",
        "plt.plot(gru_outputs[3][:100], \"-o\", color=\"g\", label=\"GRU Predictions\", markersize=2)\n",
        "plt.plot(lstm_outputs[3][:100], \"-o\", color=\"r\", label=\"LSTM Predictions\", markersize=2)\n",
        "plt.plot(targets[3][:100], color=\"b\", label=\"Actual\")\n",
        "plt.title(f\"Energy Consumption for {states_list[3]} state\")\n",
        "plt.ylabel(\"Energy Consumption (MW)\")\n",
        "plt.legend()\n",
        "plt.show()"
      ]
    }
  ],
  "metadata": {
    "kernelspec": {
      "display_name": "Python 3 (ipykernel)",
      "language": "python",
      "name": "python3"
    },
    "language_info": {
      "codemirror_mode": {
        "name": "ipython",
        "version": 3
      },
      "file_extension": ".py",
      "mimetype": "text/x-python",
      "name": "python",
      "nbconvert_exporter": "python",
      "pygments_lexer": "ipython3",
      "version": "3.7.10"
    },
    "varInspector": {
      "cols": {
        "lenName": 16,
        "lenType": 16,
        "lenVar": 40
      },
      "kernels_config": {
        "python": {
          "delete_cmd_postfix": "",
          "delete_cmd_prefix": "del ",
          "library": "var_list.py",
          "varRefreshCmd": "print(var_dic_list())"
        },
        "r": {
          "delete_cmd_postfix": ") ",
          "delete_cmd_prefix": "rm(",
          "library": "var_list.r",
          "varRefreshCmd": "cat(var_dic_list()) "
        }
      },
      "types_to_exclude": [
        "module",
        "function",
        "builtin_function_or_method",
        "instance",
        "_Feature"
      ],
      "window_display": false
    },
    "colab": {
      "provenance": []
    }
  },
  "nbformat": 4,
  "nbformat_minor": 0
}